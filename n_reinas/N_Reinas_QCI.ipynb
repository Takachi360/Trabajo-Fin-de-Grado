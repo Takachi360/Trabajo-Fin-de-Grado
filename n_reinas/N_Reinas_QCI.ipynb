{
 "cells": [
  {
   "cell_type": "code",
   "execution_count": 2,
   "id": "ffbc8e46-e5e6-4f78-8bf9-2f263cbb4013",
   "metadata": {},
   "outputs": [
    {
     "name": "stdout",
     "output_type": "stream",
     "text": [
      "Matriz QUBO generada:\n",
      "[[-1.  2.  2.  2.  2.  2.  0.  0.  2.  0.  2.  0.  2.  0.  0.  2.]\n",
      " [ 2. -1.  2.  2.  0.  2.  2.  0.  0.  2.  0.  2.  0.  2.  0.  0.]\n",
      " [ 2.  2. -1.  2.  0.  0.  2.  2.  0.  0.  2.  0.  0.  0.  2.  0.]\n",
      " [ 2.  2.  2. -1.  0.  0.  0.  2.  0.  0.  0.  2.  0.  0.  0.  2.]\n",
      " [ 2.  0.  0.  0. -1.  2.  2.  2.  2.  2.  0.  0.  2.  0.  2.  0.]\n",
      " [ 2.  2.  0.  0.  2. -1.  2.  2.  2.  2.  2.  0.  0.  2.  0.  2.]\n",
      " [ 0.  2.  2.  0.  2.  2. -1.  2.  0.  2.  2.  2.  2.  0.  2.  0.]\n",
      " [ 0.  0.  2.  2.  2.  2.  2. -1.  0.  0.  2.  2.  0.  2.  0.  2.]\n",
      " [ 2.  0.  0.  0.  2.  2.  0.  0. -1.  2.  2.  2.  2.  2.  0.  0.]\n",
      " [ 0.  2.  0.  0.  2.  2.  2.  0.  2. -1.  2.  2.  2.  2.  2.  0.]\n",
      " [ 2.  0.  2.  0.  0.  2.  2.  2.  2.  2. -1.  2.  0.  2.  2.  2.]\n",
      " [ 0.  2.  0.  2.  0.  0.  2.  2.  2.  2.  2. -1.  0.  0.  2.  2.]\n",
      " [ 2.  0.  0.  0.  2.  0.  2.  0.  2.  2.  0.  0. -1.  2.  2.  2.]\n",
      " [ 0.  2.  0.  0.  0.  2.  0.  2.  2.  2.  2.  0.  2. -1.  2.  2.]\n",
      " [ 0.  0.  2.  0.  2.  0.  2.  0.  0.  2.  2.  2.  2.  2. -1.  2.]\n",
      " [ 2.  0.  0.  2.  0.  2.  0.  2.  0.  0.  2.  2.  2.  2.  2. -1.]]\n",
      "La matriz QUBO es simétrica: True\n"
     ]
    }
   ],
   "source": [
    "import os\n",
    "import numpy as np\n",
    "import qci_client as qc\n",
    "\n",
    "import os\n",
    "import numpy as np\n",
    "import qci_client as qc\n",
    "\n",
    "# Configurar QCI API \n",
    "os.environ['QCI_API_URL'] = 'https://api.qci-prod.com'  \n",
    "os.environ['QCI_TOKEN'] = '5139207bc4dc31cd87bc18a7c1598457'\n",
    "\n",
    "# Definir el tamaño del tablero \n",
    "size = 4  \n",
    "\n",
    "# Valor de penalización Lagrangiana\n",
    "lagrange = size ** 2  \n",
    "\n",
    "# Crear la matriz QUBO para el problema de N reinas\n",
    "Q = np.zeros((size * size, size * size))\n",
    "\n",
    "# Restricción: Solo una reina por fila\n",
    "for i in range(size):\n",
    "    for j in range(size):\n",
    "        Q[i * size + j, i * size + j] -= 1\n",
    "        for k in range(j + 1, size):\n",
    "            # Aseguramos simetría entre Q[i, j] y Q[j, i]\n",
    "            Q[i * size + j, i * size + k] += 2\n",
    "            Q[i * size + k, i * size + j] += 2  # Asegurar simetría\n",
    "\n",
    "# Restricción: Solo una reina por columna\n",
    "for j in range(size):\n",
    "    for i in range(size):\n",
    "        for k in range(i + 1, size):\n",
    "            # Aseguramos simetría entre Q[i, j] y Q[k, j]\n",
    "            Q[i * size + j, k * size + j] += 2\n",
    "            Q[k * size + j, i * size + j] += 2  # Asegurar simetría\n",
    "\n",
    "# Restricción: Diagonales principales y secundarias\n",
    "for i in range(size):\n",
    "    for j in range(size):\n",
    "        for k in range(1, size - max(i, j)):\n",
    "            # Aseguramos simetría entre Q[i, j] y Q[(i + k), (j + k)]\n",
    "            Q[i * size + j, (i + k) * size + (j + k)] += 2\n",
    "            Q[(i + k) * size + (j + k), i * size + j] += 2  # Asegurar simetría\n",
    "\n",
    "        for k in range(1, min(i, size - j)):\n",
    "            # Aseguramos simetría entre Q[i, j] y Q[(i - k), (j + k)]\n",
    "            Q[i * size + j, (i - k) * size + (j + k)] += 2\n",
    "            Q[(i - k) * size + (j + k), i * size + j] += 2  # Asegurar simetría\n",
    "\n",
    "# Verificar si la matriz es simétrica\n",
    "print(\"Matriz QUBO generada:\")\n",
    "print(Q)\n",
    "print(f\"La matriz QUBO es simétrica: {np.allclose(Q, Q.T)}\")\n"
   ]
  },
  {
   "cell_type": "code",
   "execution_count": 1,
   "id": "52b79eff-ec74-47b9-a00e-fb490b0c9fb9",
   "metadata": {},
   "outputs": [
    {
     "name": "stdout",
     "output_type": "stream",
     "text": [
      "Matriz QUBO es simétrica: True\n"
     ]
    }
   ],
   "source": [
    "import os\n",
    "import numpy as np\n",
    "import qci_client as qc\n",
    "\n",
    "import os\n",
    "import numpy as np\n",
    "import qci_client as qc\n",
    "\n",
    "# Configurar QCI API \n",
    "os.environ['QCI_API_URL'] = 'https://api.qci-prod.com'  \n",
    "os.environ['QCI_TOKEN'] = '5139207bc4dc31cd87bc18a7c1598457'\n",
    "\n",
    "\n",
    "# Configurar el tamaño del tablero de N reinas\n",
    "size = 4\n",
    "lagrange = size ** 2\n",
    "\n",
    "# Función para convertir índices (i, j) a un índice lineal\n",
    "def to_linear_index(i, j, size):\n",
    "    return i * size + j\n",
    "\n",
    "# Crear una matriz QUBO simétrica\n",
    "num_variables = size * size\n",
    "Q_matrix = np.zeros((num_variables, num_variables))\n",
    "\n",
    "# Llenar la matriz QUBO siguiendo las mismas reglas que en dimod\n",
    "for i in range(size):\n",
    "    for j in range(size):\n",
    "        linear_idx = to_linear_index(i, j, size)\n",
    "        Q_matrix[linear_idx, linear_idx] = -1 \n",
    "\n",
    "# Fijar la reina en la posición (fixed_row, fixed_col)\n",
    "idx_fixed = to_linear_index(fixed_row, fixed_col, size)\n",
    "Q_matrix[idx_fixed, idx_fixed] = -lagrange * 2\n",
    "\n",
    "for i1 in range(size):\n",
    "    for j1 in range(size):\n",
    "        for i2 in range(size):\n",
    "            for j2 in range(size):\n",
    "                if (i1 == i2 or j1 == j2 or abs(i1 - i2) == abs(j1 - j2)) and not (i1 == i2 and j1 == j2):\n",
    "                    idx1 = to_linear_index(i1, j1, size)\n",
    "                    idx2 = to_linear_index(i2, j2, size)\n",
    "                    # Asegurar simetría: Q[idx1, idx2] = Q[idx2, idx1] = lagrange\n",
    "                    Q_matrix[idx1, idx2] += lagrange\n",
    "                    Q_matrix[idx2, idx1] += lagrange  # <--- Esto garantiza simetría\n",
    "\n",
    "# Verificar simetría\n",
    "print(\"Matriz QUBO es simétrica:\", np.allclose(Q_matrix, Q_matrix.T))\n"
   ]
  },
  {
   "cell_type": "code",
   "execution_count": 3,
   "id": "32b03995-26d2-44b4-8daf-aa61ed304d61",
   "metadata": {},
   "outputs": [
    {
     "name": "stdout",
     "output_type": "stream",
     "text": [
      "Archivo subido con ID: 67cec1345e0855263227b722\n",
      "2025-03-10 11:38:45 - Dirac allocation balance = 537 s\n",
      "2025-03-10 11:38:45 - Job submitted: job_id='67cec1356f2d98bd02a337d3'\n",
      "2025-03-10 11:38:45 - QUEUED\n",
      "2025-03-10 11:38:48 - RUNNING\n",
      "2025-03-10 11:50:13 - COMPLETED\n",
      "2025-03-10 11:50:16 - Dirac allocation balance = 524 s\n",
      "Trabajo enviado con ID: 67cec1356f2d98bd02a337d3\n"
     ]
    }
   ],
   "source": [
    "import time\n",
    "\n",
    "# Crear el cliente QCI\n",
    "client = qc.QciClient()\n",
    "\n",
    "# Definir el archivo QUBO\n",
    "file_def = {\n",
    "    \"file_name\": \"n-queens-qubo\",\n",
    "    \"file_config\": {\n",
    "        \"qubo\": {\n",
    "            \"data\": Q_matrix\n",
    "        }\n",
    "    }\n",
    "}\n",
    "\n",
    "# Subir el archivo QUBO a QCI\n",
    "response = client.upload_file(file=file_def)\n",
    "file_id = response[\"file_id\"]\n",
    "print(f\"Archivo subido con ID: {file_id}\")\n",
    "\n",
    "# Crear y enviar el trabajo a QCI\n",
    "job_body = client.build_job_body(\n",
    "    job_type=\"sample-qubo\",\n",
    "    qubo_file_id=file_id,\n",
    "    job_params={\"device_type\": \"dirac-1\", \"num_samples\": 50}\n",
    ")\n",
    "job_response = client.process_job(job_body=job_body)\n",
    "\n",
    "# Obtener el ID del trabajo\n",
    "job_id = job_response.get(\"job_info\", {}).get(\"job_id\", \"Desconocido\")\n",
    "print(f\"Trabajo enviado con ID: {job_id}\")\n"
   ]
  },
  {
   "cell_type": "code",
   "execution_count": 4,
   "id": "e20389d0-8133-495c-9c3f-dc943a5c111f",
   "metadata": {},
   "outputs": [
    {
     "name": "stdout",
     "output_type": "stream",
     "text": [
      "Resultados obtenidos:\n",
      "{'job_info': {'job_id': '67cec1356f2d98bd02a337d3', 'job_submission': {'problem_config': {'quadratic_unconstrained_binary_optimization': {'qubo_file_id': '67cec1345e0855263227b722'}}, 'device_config': {'dirac-1': {'num_samples': 50}}}, 'job_status': {'submitted_at_rfc3339nano': '2025-03-10T10:38:45.303Z', 'queued_at_rfc3339nano': '2025-03-10T10:38:45.31Z', 'running_at_rfc3339nano': '2025-03-10T10:38:45.947Z', 'completed_at_rfc3339nano': '2025-03-10T10:50:11.598Z'}, 'job_result': {'file_id': '67cec3e35e0855263227b724', 'device_usage_s': 13}}, 'status': 'COMPLETED', 'results': {'counts': [26, 24], 'energies': [-4, -4], 'solutions': [[0, 1, 0, 0, 0, 0, 0, 1, 1, 0, 0, 0, 0, 0, 1, 0], [0, 0, 1, 0, 1, 0, 0, 0, 0, 0, 0, 1, 0, 1, 0, 0]]}}\n"
     ]
    }
   ],
   "source": [
    "# Monitorear el estado del trabajo\n",
    "job_status = client.get_job_status(job_id=job_id)\n",
    "while job_status[\"status\"] not in [\"COMPLETED\", \"FAILED\"]:\n",
    "    print(f\"Estado del trabajo: {job_status['status']}\")\n",
    "    print(job_status)\n",
    "    time.sleep(5)\n",
    "    job_status = client.get_job_status(job_id=job_id)\n",
    "\n",
    "# Obtener y mostrar resultados\n",
    "if job_status[\"status\"] == \"COMPLETED\":\n",
    "    results = client.get_job_results(job_id=job_id)\n",
    "    print(\"Resultados obtenidos:\")\n",
    "    print(results)\n",
    "else:\n",
    "    print(\"El trabajo falló.\")"
   ]
  },
  {
   "cell_type": "code",
   "execution_count": 5,
   "id": "adc10e9e-256c-4c83-b828-9a8879b80bc2",
   "metadata": {},
   "outputs": [
    {
     "name": "stdout",
     "output_type": "stream",
     "text": [
      "[[0, 1, 0, 0, 0, 0, 0, 1, 1, 0, 0, 0, 0, 0, 1, 0], [0, 0, 1, 0, 1, 0, 0, 0, 0, 0, 0, 1, 0, 1, 0, 0]]\n"
     ]
    }
   ],
   "source": [
    "solutions = results[\"results\"][\"solutions\"]\n",
    "print(solutions)"
   ]
  },
  {
   "cell_type": "code",
   "execution_count": 6,
   "id": "c8a593f6-a3ea-44bc-b363-dc45089efdb4",
   "metadata": {},
   "outputs": [
    {
     "name": "stdout",
     "output_type": "stream",
     "text": [
      "[0, 1, 0, 0, 0, 0, 0, 1, 1, 0, 0, 0, 0, 0, 1, 0]\n"
     ]
    }
   ],
   "source": [
    "best_solution = solutions[0]  \n",
    "print(best_solution)"
   ]
  },
  {
   "cell_type": "code",
   "execution_count": 7,
   "id": "f0740898-7b97-4cf6-9157-eafd4561acdd",
   "metadata": {},
   "outputs": [
    {
     "name": "stdout",
     "output_type": "stream",
     "text": [
      "Visualizando la mejor solución:\n",
      " --------------- \n",
      "|   | X |   |   |\n",
      " --------------- \n",
      "|   |   |   | X |\n",
      " --------------- \n",
      "| X |   |   |   |\n",
      " --------------- \n",
      "|   |   | X |   |\n",
      " --------------- \n"
     ]
    }
   ],
   "source": [
    "# Función para visualizar una solución en un tablero\n",
    "def plot_board(solution, size=4):\n",
    "    board = np.array(solution).reshape(size, size)\n",
    "    print(\" --------------- \")\n",
    "    for i in range(size):\n",
    "        print(\"|\", end=\"\")\n",
    "        for j in range(size):\n",
    "            if board[i][j] == 0:\n",
    "                print(\"   |\", end=\"\") \n",
    "            else:\n",
    "                print(\" X |\", end=\"\") \n",
    "        print()\n",
    "        print(\" --------------- \")\n",
    "\n",
    "\n",
    "\n",
    "\n",
    "# Mostrar la mejor solución en el tablero\n",
    "print(\"Visualizando la mejor solución:\")\n",
    "plot_board(best_solution, size=4)\n"
   ]
  },
  {
   "cell_type": "code",
   "execution_count": null,
   "id": "df46e502-b720-4dab-9952-e1fd1e31f774",
   "metadata": {},
   "outputs": [],
   "source": []
  },
  {
   "cell_type": "code",
   "execution_count": 1,
   "id": "50829013-ab70-42d2-8942-bc235073ae6d",
   "metadata": {},
   "outputs": [
    {
     "name": "stdout",
     "output_type": "stream",
     "text": [
      "Visualizando la mejor solución:\n"
     ]
    },
    {
     "ename": "NameError",
     "evalue": "name 'np' is not defined",
     "output_type": "error",
     "traceback": [
      "\u001b[0;31m---------------------------------------------------------------------------\u001b[0m",
      "\u001b[0;31mNameError\u001b[0m                                 Traceback (most recent call last)",
      "Cell \u001b[0;32mIn[1], line 20\u001b[0m\n\u001b[1;32m     18\u001b[0m \u001b[38;5;66;03m# Mostrar la mejor solución en el tablero\u001b[39;00m\n\u001b[1;32m     19\u001b[0m \u001b[38;5;28mprint\u001b[39m(\u001b[38;5;124m\"\u001b[39m\u001b[38;5;124mVisualizando la mejor solución:\u001b[39m\u001b[38;5;124m\"\u001b[39m)\n\u001b[0;32m---> 20\u001b[0m \u001b[43mplot_board\u001b[49m\u001b[43m(\u001b[49m\u001b[43m[\u001b[49m\u001b[38;5;241;43m0\u001b[39;49m\u001b[43m,\u001b[49m\u001b[43m \u001b[49m\u001b[38;5;241;43m0\u001b[39;49m\u001b[43m,\u001b[49m\u001b[43m \u001b[49m\u001b[38;5;241;43m1\u001b[39;49m\u001b[43m,\u001b[49m\u001b[43m \u001b[49m\u001b[38;5;241;43m0\u001b[39;49m\u001b[43m,\u001b[49m\u001b[43m \u001b[49m\u001b[38;5;241;43m1\u001b[39;49m\u001b[43m,\u001b[49m\u001b[43m \u001b[49m\u001b[38;5;241;43m0\u001b[39;49m\u001b[43m,\u001b[49m\u001b[43m \u001b[49m\u001b[38;5;241;43m0\u001b[39;49m\u001b[43m,\u001b[49m\u001b[43m \u001b[49m\u001b[38;5;241;43m0\u001b[39;49m\u001b[43m,\u001b[49m\u001b[43m \u001b[49m\u001b[38;5;241;43m0\u001b[39;49m\u001b[43m,\u001b[49m\u001b[43m \u001b[49m\u001b[38;5;241;43m0\u001b[39;49m\u001b[43m,\u001b[49m\u001b[43m \u001b[49m\u001b[38;5;241;43m0\u001b[39;49m\u001b[43m,\u001b[49m\u001b[43m \u001b[49m\u001b[38;5;241;43m1\u001b[39;49m\u001b[43m,\u001b[49m\u001b[43m \u001b[49m\u001b[38;5;241;43m0\u001b[39;49m\u001b[43m,\u001b[49m\u001b[43m \u001b[49m\u001b[38;5;241;43m1\u001b[39;49m\u001b[43m,\u001b[49m\u001b[43m \u001b[49m\u001b[38;5;241;43m0\u001b[39;49m\u001b[43m,\u001b[49m\u001b[43m \u001b[49m\u001b[38;5;241;43m0\u001b[39;49m\u001b[43m]\u001b[49m\u001b[43m,\u001b[49m\u001b[43m \u001b[49m\u001b[43msize\u001b[49m\u001b[38;5;241;43m=\u001b[39;49m\u001b[38;5;241;43m4\u001b[39;49m\u001b[43m)\u001b[49m\n",
      "Cell \u001b[0;32mIn[1], line 3\u001b[0m, in \u001b[0;36mplot_board\u001b[0;34m(solution, size)\u001b[0m\n\u001b[1;32m      2\u001b[0m \u001b[38;5;28;01mdef\u001b[39;00m\u001b[38;5;250m \u001b[39m\u001b[38;5;21mplot_board\u001b[39m(solution, size\u001b[38;5;241m=\u001b[39m\u001b[38;5;241m4\u001b[39m):\n\u001b[0;32m----> 3\u001b[0m     board \u001b[38;5;241m=\u001b[39m \u001b[43mnp\u001b[49m\u001b[38;5;241m.\u001b[39marray(solution)\u001b[38;5;241m.\u001b[39mreshape(size, size)\n\u001b[1;32m      4\u001b[0m     \u001b[38;5;28mprint\u001b[39m(\u001b[38;5;124m\"\u001b[39m\u001b[38;5;124m --------------- \u001b[39m\u001b[38;5;124m\"\u001b[39m)\n\u001b[1;32m      5\u001b[0m     \u001b[38;5;28;01mfor\u001b[39;00m i \u001b[38;5;129;01min\u001b[39;00m \u001b[38;5;28mrange\u001b[39m(size):\n",
      "\u001b[0;31mNameError\u001b[0m: name 'np' is not defined"
     ]
    }
   ],
   "source": [
    "# Función para visualizar una solución en un tablero\n",
    "def plot_board(solution, size=4):\n",
    "    board = np.array(solution).reshape(size, size)\n",
    "    print(\" --------------- \")\n",
    "    for i in range(size):\n",
    "        print(\"|\", end=\"\")\n",
    "        for j in range(size):\n",
    "            if board[i][j] == 0:\n",
    "                print(\"   |\", end=\"\") \n",
    "            else:\n",
    "                print(\" X |\", end=\"\") \n",
    "        print()\n",
    "        print(\" --------------- \")\n",
    "\n",
    "\n",
    "\n",
    "\n",
    "# Mostrar la mejor solución en el tablero\n",
    "print(\"Visualizando la mejor solución:\")\n",
    "plot_board([0, 0, 1, 0, 1, 0, 0, 0, 0, 0, 0, 1, 0, 1, 0, 0], size=4)\n"
   ]
  },
  {
   "cell_type": "code",
   "execution_count": 4,
   "id": "e18fde13-acb9-48dc-a61c-a271850a7a3d",
   "metadata": {},
   "outputs": [
    {
     "name": "stdout",
     "output_type": "stream",
     "text": [
      "Tiempo por muestra (t_sample): 260.000 ms\n",
      "P_GS: 1.000\n",
      "TTS: 260.000 ms\n"
     ]
    }
   ],
   "source": [
    "import numpy as np\n",
    "\n",
    "results = {\n",
    "    'job_info': {\n",
    "        'job_result': {'device_usage_s': 13}\n",
    "    },\n",
    "    'results': {\n",
    "        'counts': [26, 24],\n",
    "        'energies': [-4, -4],\n",
    "        'solutions': [\n",
    "            [0, 1, 0, 0, 0, 0, 0, 1, 1, 0, 0, 0, 0, 0, 1, 0],\n",
    "            [0, 0, 1, 0, 1, 0, 0, 0, 0, 0, 0, 1, 0, 1, 0, 0]\n",
    "        ]\n",
    "    }\n",
    "}\n",
    "\n",
    "# Extraer datos\n",
    "device_time_s = results['job_info']['job_result']['device_usage_s']\n",
    "counts = results['results']['counts']\n",
    "solutions = results['results']['solutions']\n",
    "num_shots = sum(counts)\n",
    "\n",
    "# Tiempo por muestra en ms\n",
    "t_sample = (device_time_s * 1000) / num_shots\n",
    "\n",
    "# Identificar las soluciones óptimas (energía mínima)\n",
    "min_energy = min(results['results']['energies'])\n",
    "opt_solutions = [tuple(sol) for sol, e in zip(solutions, results['results']['energies']) if e == min_energy]\n",
    "\n",
    "# Contar ocurrencias totales y ocurrencias de soluciones óptimas\n",
    "count_dict = {tuple(sol): count for sol, count in zip(solutions, counts)}\n",
    "success_counts = sum(count_dict.get(sol, 0) for sol in opt_solutions)\n",
    "total_counts = sum(count_dict.values())\n",
    "\n",
    "# Calcular P_GS\n",
    "p_gs = success_counts / total_counts\n",
    "\n",
    "# Calcular TTS\n",
    "if p_gs == 1.0:\n",
    "    tts = t_sample\n",
    "elif p_gs == 0:\n",
    "    tts = float('inf')\n",
    "else:\n",
    "    tts = t_sample * (np.log(1 - 0.99) / np.log(1 - p_gs))\n",
    "\n",
    "print(f\"Tiempo por muestra (t_sample): {t_sample:.3f} ms\")\n",
    "print(f\"P_GS: {p_gs:.3f}\")\n",
    "print(f\"TTS: {tts:.3f} ms\")\n"
   ]
  },
  {
   "cell_type": "code",
   "execution_count": 5,
   "id": "7691868b-aa51-4f4e-8e6a-ecb234229fa0",
   "metadata": {},
   "outputs": [
    {
     "data": {
      "image/png": "[encoded data removed]",
      "text/plain": [
       "<Figure size 640x480 with 1 Axes>"
      ]
     },
     "execution_count": 5,
     "metadata": {},
     "output_type": "execute_result"
    }
   ],
   "source": [
    "from qiskit.visualization import plot_histogram\n",
    "\n",
    "# Formatear counts para Qiskit: claves como strings, valores como ocurrencias\n",
    "formatted_counts = {\"\".join(str(bit) for bit in sol): count for sol, count in count_dict.items()}\n",
    "\n",
    "# Graficar histograma\n",
    "plot_histogram(formatted_counts, title=\"Histograma de soluciones QCI\")\n"
   ]
  },
  {
   "cell_type": "code",
   "execution_count": null,
   "id": "f4fb9529-b741-4ca6-8813-323685b86d93",
   "metadata": {},
   "outputs": [],
   "source": []
  }
 ],
 "metadata": {
  "kernelspec": {
   "display_name": "Python (qci_env)",
   "language": "python",
   "name": "qci_env"
  },
  "language_info": {
   "codemirror_mode": {
    "name": "ipython",
    "version": 3
   },
   "file_extension": ".py",
   "mimetype": "text/x-python",
   "name": "python",
   "nbconvert_exporter": "python",
   "pygments_lexer": "ipython3",
   "version": "3.12.3"
  }
 },
 "nbformat": 4,
 "nbformat_minor": 5
}
