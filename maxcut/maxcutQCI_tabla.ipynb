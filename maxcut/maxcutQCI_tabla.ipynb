{
 "cells": [
  {
   "cell_type": "code",
   "execution_count": null,
   "metadata": {},
   "outputs": [],
   "source": [
    "#QCI hardware real Dirac-1 22/02/05"
   ]
  },
  {
   "cell_type": "code",
   "execution_count": 2,
   "metadata": {},
   "outputs": [
    {
     "name": "stdout",
     "output_type": "stream",
     "text": [
      "4.5.0\n"
     ]
    }
   ],
   "source": [
    "import importlib.metadata\n",
    "print(importlib.metadata.version(\"qci-client\"))\n",
    "\n"
   ]
  },
  {
   "cell_type": "code",
   "execution_count": 2,
   "metadata": {},
   "outputs": [
    {
     "name": "stdout",
     "output_type": "stream",
     "text": [
      "Nodos: [0, 1, 2, 3]\n",
      "Aristas: [(0, 1), (0, 3), (1, 2), (2, 3)]\n",
      "Matriz QUBO:\n",
      "[[-2.  1.  0.  1.]\n",
      " [ 1. -2.  1.  0.]\n",
      " [ 0.  1. -2.  1.]\n",
      " [ 1.  0.  1. -2.]]\n",
      "File ID: 6803fdc95e08552632285061\n",
      "2025-04-19 21:47:22 - Dirac allocation balance = 354 s\n",
      "2025-04-19 21:47:22 - Job submitted: job_id='6803fdca6f2d98bd02a355e9'\n",
      "2025-04-19 21:47:22 - RUNNING\n",
      "2025-04-19 22:10:12 - COMPLETED\n",
      "2025-04-19 22:10:14 - Dirac allocation balance = 334 s\n",
      "Trabajo enviado con ID: 6803fdca6f2d98bd02a355e9\n",
      "Resultados obtenidos:\n",
      "{'job_info': {'job_id': '6803fdca6f2d98bd02a355e9', 'job_submission': {'problem_config': {'quadratic_unconstrained_binary_optimization': {'qubo_file_id': '6803fdc95e08552632285061'}}, 'device_config': {'dirac-1': {'num_samples': 100}}}, 'job_status': {'submitted_at_rfc3339nano': '2025-04-19T19:47:22.5Z', 'queued_at_rfc3339nano': '2025-04-19T19:47:22.5Z', 'running_at_rfc3339nano': '2025-04-19T19:47:22.584Z', 'completed_at_rfc3339nano': '2025-04-19T20:10:10.808Z'}, 'job_result': {'file_id': '680403225e08552632285063', 'device_usage_s': 20}}, 'status': 'COMPLETED', 'results': {'counts': [56, 44], 'energies': [-4, -4], 'solutions': [[1, 0, 1, 0], [0, 1, 0, 1]]}}\n"
     ]
    }
   ],
   "source": [
    "import os\n",
    "import networkx as nx\n",
    "import numpy as np\n",
    "import qci_client as qc\n",
    "import pandas as pd\n",
    "from itertools import product\n",
    "from tabulate import tabulate\n",
    "import matplotlib.pyplot as plt\n",
    "import time\n",
    "\n",
    "# Configura API y token de QCI\n",
    "os.environ['QCI_API_URL'] = 'https://api.qci-prod.com'\n",
    "os.environ['QCI_TOKEN'] = 'Token'\n",
    "num_samples=10\n",
    "\n",
    "# Crear un grafo de 4 nodos con 4 aristas\n",
    "edges = {(0, 1): 1, (1, 2): 1, (2, 3): 1, (0, 3): 1}\n",
    "G = nx.Graph()\n",
    "G.add_edges_from(edges)\n",
    "\n",
    "# Ver el grafo\n",
    "print(\"Nodos:\", G.nodes)\n",
    "print(\"Aristas:\", G.edges)\n",
    "\n",
    "# Construcción del QUBO\n",
    "n = len(G.nodes)\n",
    "Q = np.zeros((n, n))\n",
    "\n",
    "#Lógica obtenida de bibliografía de QCI\n",
    "# Llenar la matriz QUBO basándonos en las aristas del grafo\n",
    "for u, v in G.edges:\n",
    "    Q[u, v] += 1\n",
    "    Q[v, u] += 1\n",
    "    Q[u, u] -= 1\n",
    "    Q[v, v] -= 1\n",
    "\n",
    "# Mostrar la matriz QUBO\n",
    "print(\"Matriz QUBO:\")\n",
    "print(Q)\n",
    "\n",
    "# Crear un cliente QCI\n",
    "client = qc.QciClient()\n",
    "\n",
    "# Definir el QUBO\n",
    "file_def = {\n",
    "    \"file_name\": \"max-cut-example\",\n",
    "    \"file_config\": {\n",
    "        \"qubo\": {\n",
    "            \"data\": Q\n",
    "        }\n",
    "    }\n",
    "}\n",
    "\n",
    "# Subir el archivo QUBO a QCI\n",
    "response = client.upload_file(file=file_def)\n",
    "file_id = response[\"file_id\"]\n",
    "print(f\"File ID: {file_id}\")\n",
    "\n",
    "# Crear el trabajo y enviarlo a QCI\n",
    "job_body = client.build_job_body(\n",
    "    job_type=\"sample-qubo\",  \n",
    "    qubo_file_id=file_id,\n",
    "    job_params={\"device_type\": \"dirac-1\", \"num_samples\": num_samples}\n",
    ")\n",
    "job_response = client.process_job(job_body=job_body)\n",
    "\n",
    "# Ver el ID del trabajo\n",
    "job_id = job_response.get(\"job_info\", {}).get(\"job_id\", \"Desconocido\")\n",
    "print(f\"Trabajo enviado con ID: {job_id}\")\n",
    "\n",
    "# Esperar a que el trabajo se complete\n",
    "job_status = client.get_job_status(job_id=job_id)\n",
    "while job_status[\"status\"] not in [\"COMPLETED\", \"FAILED\"]:\n",
    "    print(f\"Estado del trabajo: {job_status['status']}\")\n",
    "    time.sleep(5)\n",
    "    job_status = client.get_job_status(job_id=job_id)\n",
    "\n",
    "# Obtener los resultados\n",
    "if job_status[\"status\"] == \"COMPLETED\":\n",
    "    results = client.get_job_results(job_id=job_id)\n",
    "    print(\"Resultados obtenidos:\")\n",
    "    print(results)\n",
    "else:\n",
    "    print(\"El trabajo falló.\")\n",
    "    exit()\n",
    "\n",
    "# Procesar los resultados\n",
    "solutions = results[\"results\"][\"solutions\"]\n"
   ]
  },
  {
   "cell_type": "code",
   "execution_count": 3,
   "metadata": {},
   "outputs": [
    {
     "name": "stdout",
     "output_type": "stream",
     "text": [
      "Estructura de solutions:\n",
      "{'job_info': {'job_id': '6803fdca6f2d98bd02a355e9', 'job_submission': {'problem_config': {'quadratic_unconstrained_binary_optimization': {'qubo_file_id': '6803fdc95e08552632285061'}}, 'device_config': {'dirac-1': {'num_samples': 100}}}, 'job_status': {'submitted_at_rfc3339nano': '2025-04-19T19:47:22.5Z', 'queued_at_rfc3339nano': '2025-04-19T19:47:22.5Z', 'running_at_rfc3339nano': '2025-04-19T19:47:22.584Z', 'completed_at_rfc3339nano': '2025-04-19T20:10:10.808Z'}, 'job_result': {'file_id': '680403225e08552632285063', 'device_usage_s': 20}}, 'status': 'COMPLETED', 'results': {'counts': [56, 44], 'energies': [-4, -4], 'solutions': [[1, 0, 1, 0], [0, 1, 0, 1]]}}\n"
     ]
    }
   ],
   "source": [
    "print(\"Estructura de solutions:\")\n",
    "print(results)"
   ]
  },
  {
   "cell_type": "code",
   "execution_count": 7,
   "metadata": {},
   "outputs": [
    {
     "name": "stdout",
     "output_type": "stream",
     "text": [
      "\n",
      "Conteo de todas las combinaciones:\n",
      "+--------------+--------+\n",
      "| Combinación  | Conteo |\n",
      "+--------------+--------+\n",
      "| (0, 0, 0, 0) |   0    |\n",
      "| (0, 0, 0, 1) |   0    |\n",
      "| (0, 0, 1, 0) |   0    |\n",
      "| (0, 0, 1, 1) |   0    |\n",
      "| (0, 1, 0, 0) |   0    |\n",
      "| (0, 1, 0, 1) |   44   |\n",
      "| (0, 1, 1, 0) |   0    |\n",
      "| (0, 1, 1, 1) |   0    |\n",
      "| (1, 0, 0, 0) |   0    |\n",
      "| (1, 0, 0, 1) |   0    |\n",
      "| (1, 0, 1, 0) |   56   |\n",
      "| (1, 0, 1, 1) |   0    |\n",
      "| (1, 1, 0, 0) |   0    |\n",
      "| (1, 1, 0, 1) |   0    |\n",
      "| (1, 1, 1, 0) |   0    |\n",
      "| (1, 1, 1, 1) |   0    |\n",
      "+--------------+--------+\n",
      "\n",
      "Métricas:\n",
      "P_GS: 1.0\n",
      "TTS: 200.0 ms\n",
      "\n",
      "Tabla de métricas:\n"
     ]
    },
    {
     "data": {
      "text/html": [
       "<div>\n",
       "<style scoped>\n",
       "    .dataframe tbody tr th:only-of-type {\n",
       "        vertical-align: middle;\n",
       "    }\n",
       "\n",
       "    .dataframe tbody tr th {\n",
       "        vertical-align: top;\n",
       "    }\n",
       "\n",
       "    .dataframe thead th {\n",
       "        text-align: right;\n",
       "    }\n",
       "</style>\n",
       "<table border=\"1\" class=\"dataframe\">\n",
       "  <thead>\n",
       "    <tr style=\"text-align: right;\">\n",
       "      <th></th>\n",
       "      <th>Instance</th>\n",
       "      <th>Opt</th>\n",
       "      <th>P_GS</th>\n",
       "      <th>t_sample (ms)</th>\n",
       "      <th>TTS (ms)</th>\n",
       "    </tr>\n",
       "  </thead>\n",
       "  <tbody>\n",
       "    <tr>\n",
       "      <th>0</th>\n",
       "      <td>(4, 4, 0)</td>\n",
       "      <td>4</td>\n",
       "      <td>1.0</td>\n",
       "      <td>200.0</td>\n",
       "      <td>200.0</td>\n",
       "    </tr>\n",
       "  </tbody>\n",
       "</table>\n",
       "</div>"
      ],
      "text/plain": [
       "    Instance  Opt  P_GS  t_sample (ms)  TTS (ms)\n",
       "0  (4, 4, 0)    4   1.0          200.0     200.0"
      ]
     },
     "metadata": {},
     "output_type": "display_data"
    }
   ],
   "source": [
    "counts = results[\"results\"][\"counts\"]\n",
    "\n",
    "# Generar todas las combinaciones posibles de 4 bits\n",
    "all_combinations = list(product([0, 1], repeat=4)) \n",
    "\n",
    "# Crear un diccionario para contar las ocurrencias de cada combinación\n",
    "count_dict = {combination: 0 for combination in all_combinations}\n",
    "\n",
    "# Contar las ocurrencias de cada combinación en los resultados\n",
    "for solution, count in zip(solutions, counts):\n",
    "    sample_state = tuple(solution)  \n",
    "    count_dict[sample_state] += count \n",
    "\n",
    "# Crear una tabla con todas las combinaciones y sus conteos\n",
    "table_data = []\n",
    "for combination, count in count_dict.items():\n",
    "    table_data.append([combination, count])\n",
    "\n",
    "# Encabezados de la tabla\n",
    "headers = [\"Combinación\", \"Conteo\"]\n",
    "\n",
    "# Imprimir la tabla\n",
    "print(\"\\nConteo de todas las combinaciones:\")\n",
    "print(tabulate(table_data, headers=headers, tablefmt=\"pretty\"))\n",
    "\n",
    "# Definir los estados óptimos (para Max-Cut)\n",
    "opt_states = [(0, 1, 0, 1), (1, 0, 1, 0)]  \n",
    "opt_value = 4  \n",
    "device_time_s = results[\"job_info\"][\"job_result\"][\"device_usage_s\"]\n",
    "# Función para calcular P_GS y TTS\n",
    "t_sample = (device_time_s * 1000) / num_samples \n",
    "\n",
    "# Función para calcular P_GS y TTS con fórmula robusta\n",
    "def calculate_P_GS_and_TTS(count_dict, opt_states, t_sample, num_samples):\n",
    "    success_counts = sum(count_dict[state] for state in opt_states)\n",
    "    p_gs = success_counts / num_samples\n",
    "\n",
    "    if p_gs == 1:\n",
    "        tts = t_sample  # Si todos los samples son óptimos\n",
    "    elif p_gs == 0:\n",
    "        tts = float(\"inf\")  # No se encontró solución óptima\n",
    "    else:\n",
    "        tts = t_sample * np.max([1, np.abs(np.log(0.01) / np.log(1 - p_gs))])\n",
    "\n",
    "    return p_gs, tts\n",
    "    \n",
    "# Calcular métricas\n",
    "p_gs, tts = calculate_P_GS_and_TTS(count_dict, opt_states, t_sample, num_samples)\n",
    "print(\"\\nMétricas:\")\n",
    "print(\"P_GS:\", p_gs)\n",
    "print(\"TTS:\", tts, \"ms\")\n",
    "\n",
    "\n",
    "# 🔹 Crear tabla en Jupyter\n",
    "data = {\n",
    "    \"Instance\": [\"(4, 4, 0)\"],  # Identificador del grafo\n",
    "    \"Opt\": [opt_value],         # Valor óptimo\n",
    "    \"P_GS\": [p_gs],             # Probabilidad de éxito\n",
    "    \"t_sample (ms)\": [t_sample], # Tiempo por muestra\n",
    "    \"TTS (ms)\": [tts]           # Time to Solution\n",
    "}\n",
    "\n",
    "# Crear el DataFrame\n",
    "df = pd.DataFrame(data)\n",
    "\n",
    "# Mostrar la tabla\n",
    "print(\"\\nTabla de métricas:\")\n",
    "display(df)\n"
   ]
  },
  {
   "cell_type": "code",
   "execution_count": 8,
   "metadata": {},
   "outputs": [
    {
     "data": {
      "image/png": "[encoded data removed]",
      "text/plain": [
       "<Figure size 400x400 with 1 Axes>"
      ]
     },
     "metadata": {},
     "output_type": "display_data"
    }
   ],
   "source": [
    "# Visualizar el grafo con la mejor solución\n",
    "best_solution = solutions[0] \n",
    "node_colors = ['red' if bit == 1 else 'blue' for bit in best_solution]\n",
    "\n",
    "# Crear el grafo\n",
    "G = nx.Graph()\n",
    "G.add_edges_from([(0, 1), (1, 2), (2, 3), (0, 3)]) \n",
    "\n",
    "# Dibujar el grafo\n",
    "plt.figure(figsize=(4,4))\n",
    "pos = nx.spring_layout(G)  \n",
    "nx.draw(G, pos, with_labels=True, node_color=node_colors, edge_color=\"gray\", node_size=700)\n",
    "plt.title(f\"Max-Cut con solución {best_solution}\")\n",
    "plt.show()"
   ]
  },
  {
   "cell_type": "code",
   "execution_count": 5,
   "metadata": {},
   "outputs": [
    {
     "data": {
      "image/png": "[encoded data removed]",
      "text/plain": [
       "<Figure size 640x480 with 1 Axes>"
      ]
     },
     "execution_count": 5,
     "metadata": {},
     "output_type": "execute_result"
    }
   ],
   "source": [
    "from qiskit.visualization import plot_histogram\n",
    "\n",
    "# Convertir count_dict a formato compatible con Qiskit\n",
    "qiskit_counts = {\"\".join(map(str, k)): v for k, v in count_dict.items() if v > 0}\n",
    "\n",
    "# Mostrar el histograma estilo Qiskit\n",
    "plot_histogram(qiskit_counts, title=\"Histograma de resultados QCI\")\n"
   ]
  },
  {
   "cell_type": "code",
   "execution_count": null,
   "metadata": {},
   "outputs": [],
   "source": []
  }
 ],
 "metadata": {
  "kernelspec": {
   "display_name": "Python (qiskit_env)",
   "language": "python",
   "name": "qiskit_env"
  },
  "language_info": {
   "codemirror_mode": {
    "name": "ipython",
    "version": 3
   },
   "file_extension": ".py",
   "mimetype": "text/x-python",
   "name": "python",
   "nbconvert_exporter": "python",
   "pygments_lexer": "ipython3",
   "version": "3.12.3"
  }
 },
 "nbformat": 4,
 "nbformat_minor": 4
}
